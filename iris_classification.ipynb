{
  "nbformat": 4,
  "nbformat_minor": 0,
  "metadata": {
    "colab": {
      "provenance": []
    },
    "kernelspec": {
      "name": "python3",
      "display_name": "Python 3"
    },
    "language_info": {
      "name": "python"
    }
  },
  "cells": [
    {
      "cell_type": "code",
      "execution_count": 1,
      "metadata": {
        "id": "R-_R85wE8vyH"
      },
      "outputs": [],
      "source": [
        "from sklearn.datasets import load_iris\n",
        "li=load_iris()\n",
        "x=li.data\n",
        "y=li.target\n",
        "from sklearn.preprocessing import MinMaxScaler\n",
        "s=MinMaxScaler()\n",
        "x1=s.fit_transform(x)\n",
        "from sklearn.preprocessing import OneHotEncoder\n",
        "import numpy as n\n",
        "enc=OneHotEncoder()\n",
        "dt=enc.fit_transform(y[:,n.newaxis]).toarray() #toarray():- used to complete array\n",
        "y2=dt.astype('int')\n",
        "from sklearn.model_selection import train_test_split\n",
        "xtrain,xtest,ytrain,ytest=train_test_split(x1,y2,test_size=0.2)"
      ]
    },
    {
      "cell_type": "code",
      "source": [
        "from keras.models import Sequential\n",
        "model=Sequential()\n",
        "from keras.layers import Dense\n",
        "model.add(Dense(12,activation='relu',input_dim=4))\n",
        "model.add(Dense(12,activation='relu'))\n",
        "model.add(Dense(3,activation='Softmax'))\n",
        "model.compile(optimizer='adam',loss='categorical_crossentropy')\n",
        "model.fit(xtrain,ytrain,epochs=10)"
      ],
      "metadata": {
        "colab": {
          "base_uri": "https://localhost:8080/"
        },
        "id": "9usTNVc09fJu",
        "outputId": "477f75a6-7eaf-4767-d86f-f13d0d355723"
      },
      "execution_count": 2,
      "outputs": [
        {
          "output_type": "stream",
          "name": "stdout",
          "text": [
            "Epoch 1/10\n",
            "4/4 [==============================] - 1s 6ms/step - loss: 1.1659\n",
            "Epoch 2/10\n",
            "4/4 [==============================] - 0s 10ms/step - loss: 1.1465\n",
            "Epoch 3/10\n",
            "4/4 [==============================] - 0s 5ms/step - loss: 1.1318\n",
            "Epoch 4/10\n",
            "4/4 [==============================] - 0s 10ms/step - loss: 1.1191\n",
            "Epoch 5/10\n",
            "4/4 [==============================] - 0s 6ms/step - loss: 1.1073\n",
            "Epoch 6/10\n",
            "4/4 [==============================] - 0s 5ms/step - loss: 1.0977\n",
            "Epoch 7/10\n",
            "4/4 [==============================] - 0s 3ms/step - loss: 1.0877\n",
            "Epoch 8/10\n",
            "4/4 [==============================] - 0s 4ms/step - loss: 1.0780\n",
            "Epoch 9/10\n",
            "4/4 [==============================] - 0s 5ms/step - loss: 1.0696\n",
            "Epoch 10/10\n",
            "4/4 [==============================] - 0s 3ms/step - loss: 1.0599\n"
          ]
        },
        {
          "output_type": "execute_result",
          "data": {
            "text/plain": [
              "<keras.callbacks.History at 0x7f1c5e53e040>"
            ]
          },
          "metadata": {},
          "execution_count": 2
        }
      ]
    },
    {
      "cell_type": "code",
      "source": [
        "ypred=model.predict(xtest)"
      ],
      "metadata": {
        "colab": {
          "base_uri": "https://localhost:8080/"
        },
        "id": "GJoXXLt39k65",
        "outputId": "a9ecd07f-8201-4626-a46f-0df2da51141a"
      },
      "execution_count": 3,
      "outputs": [
        {
          "output_type": "stream",
          "name": "stdout",
          "text": [
            "1/1 [==============================] - 0s 79ms/step\n"
          ]
        }
      ]
    },
    {
      "cell_type": "code",
      "source": [
        "import numpy as np\n",
        "for i in range(len(ypred)):\n",
        "  j=np.argmax(ypred[i,:])\n",
        "  ypred[i,0]=0\n",
        "  ypred[i,1]=0\n",
        "  ypred[i,2]=0\n",
        "  ypred[i,j]=1\n",
        "ypred.astype('int')"
      ],
      "metadata": {
        "colab": {
          "base_uri": "https://localhost:8080/"
        },
        "id": "vsA_HfjG9nq_",
        "outputId": "ebc5f487-e46f-431d-fc6d-baa6d4cbdecc"
      },
      "execution_count": 4,
      "outputs": [
        {
          "output_type": "execute_result",
          "data": {
            "text/plain": [
              "array([[0, 1, 0],\n",
              "       [0, 1, 0],\n",
              "       [0, 1, 0],\n",
              "       [0, 1, 0],\n",
              "       [0, 1, 0],\n",
              "       [1, 0, 0],\n",
              "       [0, 1, 0],\n",
              "       [0, 1, 0],\n",
              "       [1, 0, 0],\n",
              "       [0, 1, 0],\n",
              "       [1, 0, 0],\n",
              "       [0, 1, 0],\n",
              "       [0, 1, 0],\n",
              "       [0, 1, 0],\n",
              "       [1, 0, 0],\n",
              "       [0, 1, 0],\n",
              "       [0, 1, 0],\n",
              "       [0, 1, 0],\n",
              "       [0, 1, 0],\n",
              "       [1, 0, 0],\n",
              "       [0, 1, 0],\n",
              "       [1, 0, 0],\n",
              "       [1, 0, 0],\n",
              "       [0, 1, 0],\n",
              "       [0, 1, 0],\n",
              "       [0, 1, 0],\n",
              "       [0, 1, 0],\n",
              "       [0, 1, 0],\n",
              "       [0, 1, 0],\n",
              "       [1, 0, 0]])"
            ]
          },
          "metadata": {},
          "execution_count": 4
        }
      ]
    },
    {
      "cell_type": "code",
      "source": [
        "from sklearn.metrics import precision_score\n",
        "precision_score([1,0,0],[1,1,1])\n",
        "sum=0\n",
        "for i in range(len(ypred)):\n",
        "  a=precision_score(ytest[i],ypred[i])\n",
        "  sum=sum+a\n",
        "sum=sum/len(ypred)\n",
        "sum"
      ],
      "metadata": {
        "colab": {
          "base_uri": "https://localhost:8080/"
        },
        "id": "Xw2exKZn9rVM",
        "outputId": "be4bb7f7-d40f-41e0-cb98-75a7163c5141"
      },
      "execution_count": 5,
      "outputs": [
        {
          "output_type": "execute_result",
          "data": {
            "text/plain": [
              "0.6333333333333333"
            ]
          },
          "metadata": {},
          "execution_count": 5
        }
      ]
    }
  ]
}